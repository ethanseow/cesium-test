{
 "cells": [
  {
   "cell_type": "markdown",
   "metadata": {},
   "source": [
    "# Preamble"
   ]
  },
  {
   "cell_type": "code",
   "execution_count": 1,
   "metadata": {
    "ExecuteTime": {
     "end_time": "2022-08-01T21:41:46.226711Z",
     "start_time": "2022-08-01T21:41:46.201900Z"
    }
   },
   "outputs": [],
   "source": [
    "%load_ext autoreload\n",
    "%autoreload 2"
   ]
  },
  {
   "cell_type": "code",
   "execution_count": 2,
   "metadata": {
    "ExecuteTime": {
     "end_time": "2022-08-01T21:41:48.437843Z",
     "start_time": "2022-08-01T21:41:46.370778Z"
    }
   },
   "outputs": [],
   "source": [
    "import os, sys\n",
    "sys.path.append('../SatLib')\n",
    "import satPlotTools as spt\n",
    "import satbox as sb\n",
    "import orbitalMechanics as om\n",
    "import utils as utils"
   ]
  },
  {
   "cell_type": "code",
   "execution_count": 3,
   "metadata": {
    "ExecuteTime": {
     "end_time": "2022-08-01T21:41:48.458182Z",
     "start_time": "2022-08-01T21:41:48.439662Z"
    }
   },
   "outputs": [],
   "source": [
    "import numpy as np\n",
    "from poliastro import constants\n",
    "from poliastro.earth import Orbit\n",
    "from poliastro.earth.sensors import min_and_max_ground_range, ground_range_diff_at_azimuth\n",
    "from poliastro.bodies import Earth\n",
    "from poliastro.maneuver import Maneuver\n",
    "from poliastro.twobody.propagation import propagate\n",
    "from poliastro.twobody.propagation import cowell\n",
    "from poliastro.core.perturbations import J2_perturbation\n",
    "from poliastro.core.propagation import func_twobody\n",
    "from poliastro.util import norm\n",
    "import astropy.units as u\n",
    "from astropy.time import Time, TimeDelta"
   ]
  },
  {
   "cell_type": "markdown",
   "metadata": {},
   "source": [
    "# Define Walker "
   ]
  },
  {
   "cell_type": "code",
   "execution_count": 4,
   "metadata": {
    "ExecuteTime": {
     "end_time": "2022-08-01T21:41:48.483167Z",
     "start_time": "2022-08-01T21:41:48.460223Z"
    }
   },
   "outputs": [
    {
     "name": "stderr",
     "output_type": "stream",
     "text": [
      "/Users/manweichan/Desktop/MITPhD/SAS/code/.venv/lib/python3.7/site-packages/astropy/units/decorators.py:253: UserWarning: Wrapping true anomaly to -π <= nu < π\n",
      "  return_ = wrapped_function(*func_args, **func_kwargs)\n"
     ]
    }
   ],
   "source": [
    "i = 60 * u.deg\n",
    "t = 4\n",
    "p = 2\n",
    "f = 0\n",
    "alt = 550 * u.km\n",
    "walker = sb.Constellation.from_walker(i,t,p,f,alt)"
   ]
  },
  {
   "cell_type": "markdown",
   "metadata": {},
   "source": [
    "# Define Ground Station"
   ]
  },
  {
   "cell_type": "code",
   "execution_count": 8,
   "metadata": {
    "ExecuteTime": {
     "end_time": "2022-08-01T21:47:54.239175Z",
     "start_time": "2022-08-01T21:47:53.886966Z"
    }
   },
   "outputs": [],
   "source": [
    "gs_lat = 39 * u.deg\n",
    "gs_lon = 127 * u.deg\n",
    "gs_h = 0 * u.m\n",
    "gs = sb.GroundLoc(gs_lon, gs_lat, gs_h)"
   ]
  },
  {
   "cell_type": "markdown",
   "metadata": {},
   "source": [
    "# Define RGT Drift Maneuver"
   ]
  },
  {
   "cell_type": "code",
   "execution_count": 9,
   "metadata": {
    "ExecuteTime": {
     "end_time": "2022-08-01T21:47:54.803580Z",
     "start_time": "2022-08-01T21:47:54.767079Z"
    }
   },
   "outputs": [],
   "source": [
    "r_drift = 650*u.km #Drift orbit at 650 km"
   ]
  },
  {
   "cell_type": "markdown",
   "metadata": {},
   "source": [
    "# Calculate Burn schedule"
   ]
  },
  {
   "cell_type": "code",
   "execution_count": 10,
   "metadata": {
    "ExecuteTime": {
     "end_time": "2022-08-01T21:48:03.030484Z",
     "start_time": "2022-08-01T21:47:57.389171Z"
    }
   },
   "outputs": [],
   "source": [
    "\n",
    "schedDict = walker.gen_GOM_2_RGT_scheds(r_drift, gs)\n",
    "sats2Maneuver, driftTimes, sched = walker.get_ascending_descending_per_plane(schedDict) #Assumes two satellite per plane will get there\n"
   ]
  },
  {
   "cell_type": "markdown",
   "metadata": {},
   "source": [
    "# Propagate satellites"
   ]
  },
  {
   "cell_type": "code",
   "execution_count": 11,
   "metadata": {
    "ExecuteTime": {
     "end_time": "2022-08-01T21:48:06.579390Z",
     "start_time": "2022-08-01T21:48:03.031881Z"
    }
   },
   "outputs": [
    {
     "name": "stdout",
     "output_type": "stream",
     "text": [
      "maneuver schedule taken from satellite object\n",
      "Not skipping schedule for Plane 0 Sat 0\n",
      "maneuver schedule taken from satellite object\n",
      "Not skipping schedule for Plane 0 Sat 1\n",
      "maneuver schedule taken from satellite object\n",
      "Not skipping schedule for Plane 1 Sat 2\n",
      "maneuver schedule taken from satellite object\n",
      "Not skipping schedule for Plane 1 Sat 3\n"
     ]
    }
   ],
   "source": [
    "t2propagate = 1*u.day\n",
    "tStep = 30 * u.s\n",
    "verbose = True\n",
    "walkerSim = sb.SimConstellation(walker, t2propagate, tStep, verbose = verbose)\n",
    "walkerSim.propagate(select_sched_sats = sats2Maneuver, verbose=verbose)"
   ]
  },
  {
   "cell_type": "code",
   "execution_count": 27,
   "metadata": {
    "ExecuteTime": {
     "end_time": "2022-07-12T22:06:44.217482Z",
     "start_time": "2022-07-12T22:06:44.173370Z"
    }
   },
   "outputs": [
    {
     "data": {
      "text/plain": [
       "[<CartesianRepresentation (x, y, z) in km\n",
       "     [(6928.1366    ,    0.        ,    0.        ),\n",
       "      (6924.39400473,   47.11553872,   81.60646647),\n",
       "      (6913.16020076,   94.18008227,  163.12436366),\n",
       "      (6894.41708081,  141.14227803,  244.46450039),\n",
       "      (6868.13428919,  187.95005183,  325.53643017),\n",
       "      (6834.26895244,  234.55023021,  406.24779391),\n",
       "      (6792.76529489,  280.88814187,  486.50362638),\n",
       "      (6743.55412761,  326.90718922,  566.20561061),\n",
       "      (6686.55220576,  372.54838241,  645.25126678),\n",
       "      (6621.66143428,  417.74982365,  723.53305446),\n",
       "      (6548.76790247,  462.44612877,  800.93736541),\n",
       "      (6467.7407295 ,  506.5677721 ,  877.34338251),\n",
       "      (6378.43068519,  550.04033383,  952.6217686 ),\n",
       "      (6280.6685545 ,  592.78362836, 1026.63314766),\n",
       "      (6174.26319406,  634.71068169, 1099.22632231),\n",
       "      (6058.99922747,  675.72652236, 1170.23616569),\n",
       "      (5934.63430318,  715.72673598, 1239.48110036),\n",
       "      (5800.89582496,  754.59572179, 1306.76005649),\n",
       "      (5657.4770338 ,  792.20456676, 1371.84876099),\n",
       "      (5504.03229103,  828.40842729, 1434.49516556),\n",
       "      (5340.17136538,  863.04326972, 1494.41375192),\n",
       "      (5165.45246288,  895.9217623 , 1551.27835117),\n",
       "      (4979.37365843,  926.82803452, 1604.71297726),\n",
       "      (4781.36226866,  955.51089738, 1654.27996058),\n",
       "      (4570.76154231,  981.6749383 , 1699.46434926),\n",
       "      (4346.81381406, 1004.96862687, 1739.65305508),\n",
       "      (4108.63893228, 1024.96812287, 1774.10643407),\n",
       "      (3855.20629133, 1041.15475969, 1801.91871582),\n",
       "      (3585.29809686, 1052.88295702, 1821.96152706),\n",
       "      (3297.46048412, 1059.33319085, 1832.80095946),\n",
       "      (2989.93770737, 1059.44076132, 1832.5716652 ),\n",
       "      (2660.58289242, 1051.78364411, 1818.7780366 ),\n",
       "      (2306.73762468, 1034.39755626, 1787.96504563),\n",
       "      (1925.07601864, 1004.45340331, 1735.14098761),\n",
       "      (1511.43499919,  957.65463188, 1652.69029688),\n",
       "      (1060.78496625,  887.01174161, 1528.13453984),\n",
       "      ( 568.16820923,  780.08558387, 1338.97943481),\n",
       "      (  35.32331217,  612.16292457, 1039.29438496),\n",
       "      (-485.29149188,  330.06020764,  523.35741423)]\n",
       "  (has differentials w.r.t.: 's')>,\n",
       " <CartesianRepresentation (x, y, z) in km\n",
       "     [(-662.77719513,   27.8284892 ,  -37.12981201),\n",
       "      (-276.12078572, -283.75352005, -517.48465694),\n",
       "      ( 380.47901019, -358.07145206, -386.01864401),\n",
       "      ( 591.56304375,  -67.59427859,  235.61693388),\n",
       "      (  84.09065219,  327.97871556,  520.6371693 ),\n",
       "      (-490.38348443,  418.75199028,  125.26371795)]\n",
       "  (has differentials w.r.t.: 's')>,\n",
       " <CartesianRepresentation (x, y, z) in km\n",
       "     [(-501.78598197,    57.77777377, -421.05913935),\n",
       "      (  54.17577814,  -593.15488669, -688.93407319),\n",
       "      ( 626.80770513, -1036.86411749, -611.78826457),\n",
       "      (1114.9758433 , -1327.94015828, -426.97521774),\n",
       "      (1531.57414348, -1531.44630271, -210.36633209),\n",
       "      (1893.67284165, -1679.77312206,   14.86281778),\n",
       "      (2213.15083241, -1790.0227172 ,  240.11093694),\n",
       "      (2498.10835604, -1872.22228955,  461.7239085 ),\n",
       "      (2754.25807361, -1932.76126979,  678.03400321),\n",
       "      (2985.78028617, -1975.97624552,  888.26821873),\n",
       "      (3195.83459123, -2004.95699614, 1092.08868131),\n",
       "      (3386.87486306, -2021.9908728 , 1289.37948776),\n",
       "      (3560.85052286, -2028.8242816 , 1480.14050007),\n",
       "      (3719.33984826, -2026.82491998, 1664.43152721),\n",
       "      (3863.64116119, -2017.08693517, 1842.34181437),\n",
       "      (3994.83699582, -2000.50162735, 2013.97290061),\n",
       "      (4113.84038714, -1977.80648689, 2179.42882468),\n",
       "      (4221.42899533, -1949.62012467, 2338.81049678),\n",
       "      (4318.27074786, -1916.46773778, 2492.21248726),\n",
       "      (4404.9434349 , -1878.8000568 , 2639.72123925),\n",
       "      (4481.94990862, -1837.00770026, 2781.41412619),\n",
       "      (4549.73002926, -1791.43222673, 2917.35900886),\n",
       "      (4608.670165  , -1742.37477019, 3047.61408195),\n",
       "      (4659.11082456, -1690.10287746, 3172.22788105),\n",
       "      (4701.35284668, -1634.85599063, 3291.23936866),\n",
       "      (4735.6624583 , -1576.84989356, 3404.67804857),\n",
       "      (4762.2754369 , -1516.28035895, 3512.56407552),\n",
       "      (4781.40055577, -1453.32617279, 3614.90833878),\n",
       "      (4793.22244717, -1388.15166857, 3711.71250534),\n",
       "      (4797.90399013, -1320.9088745 , 3802.96901252),\n",
       "      (4795.58830532, -1251.73935398, 3888.66100219),\n",
       "      (4786.40042033, -1180.77580121, 3968.76219004),\n",
       "      (4770.44865737, -1108.14344339, 4043.23666343),\n",
       "      (4747.82578299, -1033.96129037, 4112.03860137),\n",
       "      (4718.60995152,  -958.34326589, 4175.11190878),\n",
       "      (4682.86546706,  -881.39924982, 4232.38975643),\n",
       "      (4640.64338317,  -803.23605681, 4283.79401539),\n",
       "      (4591.98195546,  -723.95837492, 4329.23457373),\n",
       "      (4536.90695678,  -643.66968577, 4368.60851848)]\n",
       "  (has differentials w.r.t.: 's')>,\n",
       " <CartesianRepresentation (x, y, z) in km\n",
       "     [( 4525.87131317,  -628.51631968,  4375.30436775),\n",
       "      ( 4406.11153747,  -451.05322739,  4482.96335755),\n",
       "      ( 4280.05320783,  -272.94579926,  4584.19193778), ...,\n",
       "      (-3160.79998242, -1270.2450554 , -5652.67625565),\n",
       "      (-3026.58251635, -1446.60468503, -5709.02242767),\n",
       "      (-2888.64063509, -1621.18465574, -5758.32263238)]\n",
       "  (has differentials w.r.t.: 's')>]"
      ]
     },
     "execution_count": 27,
     "metadata": {},
     "output_type": "execute_result"
    }
   ],
   "source": [
    "#Here is the consetllation you want to plot @jace\n",
    "walkerSim.constellation.planes[0].sats[0].__dict__\n",
    "\n",
    "# This is each of the segments in the burn trajectory\n",
    "walkerSim.constellation.planes[0].sats[0].cartesianRepSegments"
   ]
  },
  {
   "cell_type": "code",
   "execution_count": 28,
   "metadata": {
    "ExecuteTime": {
     "end_time": "2022-07-12T22:06:44.383527Z",
     "start_time": "2022-07-12T22:06:44.352826Z"
    }
   },
   "outputs": [
    {
     "data": {
      "text/plain": [
       "<CartesianRepresentation (x, y, z) in km\n",
       "    [( 6928.1366    ,     0.        ,     0.        ),\n",
       "     ( 6924.39400473,    47.11553872,    81.60646647),\n",
       "     ( 6913.16020076,    94.18008227,   163.12436366), ...,\n",
       "     (-3160.79998242, -1270.2450554 , -5652.67625565),\n",
       "     (-3026.58251635, -1446.60468503, -5709.02242767),\n",
       "     (-2888.64063509, -1621.18465574, -5758.32263238)]\n",
       " (has differentials w.r.t.: 's')>"
      ]
     },
     "execution_count": 28,
     "metadata": {},
     "output_type": "execute_result"
    }
   ],
   "source": [
    "#This is all the segments in one array\n",
    "walkerSim.constellation.planes[0].sats[0].coordECI"
   ]
  },
  {
   "cell_type": "code",
   "execution_count": null,
   "metadata": {},
   "outputs": [],
   "source": []
  }
 ],
 "metadata": {
  "kernelspec": {
   "display_name": "Python 3 (ipykernel)",
   "language": "python",
   "name": "python3"
  },
  "language_info": {
   "codemirror_mode": {
    "name": "ipython",
    "version": 3
   },
   "file_extension": ".py",
   "mimetype": "text/x-python",
   "name": "python",
   "nbconvert_exporter": "python",
   "pygments_lexer": "ipython3",
   "version": "3.7.3"
  },
  "toc": {
   "base_numbering": 1,
   "nav_menu": {},
   "number_sections": true,
   "sideBar": true,
   "skip_h1_title": false,
   "title_cell": "Table of Contents",
   "title_sidebar": "Contents",
   "toc_cell": false,
   "toc_position": {},
   "toc_section_display": true,
   "toc_window_display": false
  }
 },
 "nbformat": 4,
 "nbformat_minor": 4
}
